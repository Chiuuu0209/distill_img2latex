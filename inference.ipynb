{
 "cells": [
  {
   "cell_type": "code",
   "execution_count": 5,
   "metadata": {},
   "outputs": [],
   "source": [
    "import os\n",
    "import json\n",
    "import torch\n",
    "import numpy as np\n",
    "import torchvision.transforms as transforms\n",
    "import matplotlib.pyplot as plt\n",
    "\n",
    "from image_to_latex.lit_models import LitResNetTransformer\n",
    "from model.DistillModel import DistillModel\n",
    "from pytorch_lightning import Trainer\n",
    "from torch.autograd import Variable\n",
    "from PIL import Image\n",
    "\n",
    "from torch.utils.data import DataLoader, Dataset\n",
    "from albumentations.pytorch.transforms import ToTensorV2\n",
    "from pytorch_lightning import Trainer\n",
    "from model.img2latex.data.utils import Tokenizer, get_all_formulas, get_split \n"
   ]
  },
  {
   "cell_type": "code",
   "execution_count": 6,
   "metadata": {},
   "outputs": [],
   "source": [
    "model_path = \"/home/chris/git/Distill/outputs/2022-09-22/17-02-15/wandb/latest-run/files/Distill-im2latex/kp4xwxk7/checkpoints/epoch=13-val/loss=-1.54-val/cer=0.17.ckpt\"\n",
    "model = DistillModel.load_from_checkpoint(model_path)"
   ]
  },
  {
   "cell_type": "code",
   "execution_count": 7,
   "metadata": {},
   "outputs": [
    {
     "name": "stdout",
     "output_type": "stream",
     "text": [
      "7104194\n"
     ]
    }
   ],
   "source": [
    "model_parameters = filter(lambda p: p.requires_grad, model.parameters())\n",
    "params = sum([np.prod(p.size()) for p in model_parameters])\n",
    "print(params)"
   ]
  },
  {
   "cell_type": "code",
   "execution_count": 8,
   "metadata": {},
   "outputs": [],
   "source": [
    "class BaseDataset(Dataset):\n",
    "    def __init__(self, image_name, formula, transform):\n",
    "        self.image_names = image_name\n",
    "        self.formulas = formula\n",
    "        self.transform = transform\n",
    "        \n",
    "    def __len__(self):\n",
    "        return len(self.formulas)\n",
    "    \n",
    "    def __getitem__(self, idx):\n",
    "        idx = 100\n",
    "        image_name, formula = self.image_names[idx], self.formulas[idx]\n",
    "        image = Image.open(f'./data/formula_images_processed/{image_name}.png').convert(\"L\")\n",
    "        image = self.transform(image=np.array(image))[\"image\"]\n",
    "        return image, formula"
   ]
  },
  {
   "cell_type": "code",
   "execution_count": 9,
   "metadata": {},
   "outputs": [],
   "source": [
    "\n",
    "formula_file = './data/im2latex_formulas.norm.new.lst'\n",
    "all_formulas = get_all_formulas(formula_file)\n",
    "\n",
    "test_image_names, test_formulas = get_split(all_formulas, './data/im2latex_test_filter.lst')\n",
    "idx = 5\n",
    "test_image_name = test_image_names[idx]\n",
    "test_formula = test_formulas[idx]\n",
    "\n",
    "test_dataset = BaseDataset(test_image_names, test_formulas, ToTensorV2())\n",
    "test_dataloader = DataLoader(test_dataset, shuffle=False, batch_size=1, num_workers=4, pin_memory=False)\n",
    "\n",
    "# datamodule = Im2Latex()\n",
    "# datamodule.setup()\n",
    "# trainer = Trainer(gpus=1)\n",
    "# trainer.test(model, datamodule=datamodule)\n",
    "tokenizer = Tokenizer.load('./model/img2latex/data/vocab.json')"
   ]
  },
  {
   "cell_type": "code",
   "execution_count": 21,
   "metadata": {},
   "outputs": [
    {
     "name": "stdout",
     "output_type": "stream",
     "text": [
      "torch.Size([1, 1, 100, 500])\n",
      "{ \\cal L } ( J ) = \\frac { 1 } { 2 } Q _ { \\mu } \\phi { \\phi } ^ { a } \\phi { + \\frac { J } { 2 } } } \\phi ^ { 2 } + \\frac { \\lambda a ^ { 4 c } } { \\mathrm { d e } } } { 8 ! } } \\phi ^ { \\alpha } \\star { \\cal { \\cal { E } _ { \\mathrm { C } } ( { \\cal L } ) - \\mu } ^ { - \\infty } { { S } J ^ { 2 } .\n",
      "target\n",
      " { \\\\cal L } ( J ) = \\\\frac { 1 } { 2 } \\\\partial _ { \\\\mu } \\\\phi \\\\partial ^ { \\\\mu } \\\\phi + \\\\frac { J } { 2 } \\\\phi ^ { 2 } + \\\\frac { \\\\lambda \\\\mu ^ { 2 \\\\varepsilon } } { 4 ! } \\\\phi ^ { 4 } + { \\\\cal L } _ { \\\\mathrm { C T } } ( J ) - \\\\mu ^ { - 2 \\\\varepsilon } \\\\frac { \\\\zeta } { 2 } \\\\; J ^ { 2 } . \n"
     ]
    }
   ],
   "source": [
    "for i, (X, y) in enumerate(test_dataloader):\n",
    "    if i == 0: \n",
    "        print(X.size())\n",
    "        preds = model.model.predict(X.float())\n",
    "        # print(preds)\n",
    "        for pred in preds:\n",
    "            decoded = tokenizer.decode(pred.tolist())\n",
    "            decoded_str = \" \".join(decoded)\n",
    "            print(decoded_str)\n",
    "        # print(y)\n",
    "        decoded_str = \" \"\n",
    "        for s in y:\n",
    "            # decoded = tokenizer.decode(s.tolist())\n",
    "            # print(type(s))\n",
    "            # print(str(s).split('\\'')[1])\n",
    "            decoded_str += str(s).split('\\'')[1]\n",
    "            decoded_str += \" \"\n",
    "        print(\"target\")\n",
    "        print(decoded_str)\n",
    "    else: \n",
    "        break"
   ]
  },
  {
   "cell_type": "code",
   "execution_count": 27,
   "metadata": {},
   "outputs": [
    {
     "name": "stdout",
     "output_type": "stream",
     "text": [
      "predict：\n",
      "\\frac { d } { d s } C _ { i } = \\frac { 1 } { 2 } \\epsilon _ { i j k } C _ { j } \\times C _ { k } \\, . \n",
      "\n",
      "target：\n",
      "\\frac { d } { d s } { \\bf C } _ { i } = \\frac { 1 } { 2 } \\epsilon _ { i j k } { \\bf C } _ { j } \\times { \\bf C } _ { k } \\, .\n"
     ]
    },
    {
     "data": {
      "image/png": "[encoded data removed]",
      "text/plain": [
       "<Figure size 432x288 with 1 Axes>"
      ]
     },
     "metadata": {
      "needs_background": "light"
     },
     "output_type": "display_data"
    }
   ],
   "source": [
    "img = test_image_names[4]\n",
    "image = Image.open(f'./data/formula_images_processed/{img}.png').convert(\"L\")\n",
    "plt.imshow(image, cmap='gray')\n",
    "print('predict：')\n",
    "print(open('/home/chris/git/Distill/outputs/2022-09-22/17-02-15/test_predictions.txt').readlines()[test_image_names.index(img)])\n",
    "print('target：')\n",
    "print(\" \".join(test_formulas[test_image_names.index(img)]))"
   ]
  },
  {
   "cell_type": "code",
   "execution_count": null,
   "metadata": {},
   "outputs": [],
   "source": []
  }
 ],
 "metadata": {
  "kernelspec": {
   "display_name": "Python 3.6.15 ('img-to-latex': virtualenv)",
   "language": "python",
   "name": "python3"
  },
  "language_info": {
   "codemirror_mode": {
    "name": "ipython",
    "version": 3
   },
   "file_extension": ".py",
   "mimetype": "text/x-python",
   "name": "python",
   "nbconvert_exporter": "python",
   "pygments_lexer": "ipython3",
   "version": "3.6.15"
  },
  "orig_nbformat": 4,
  "vscode": {
   "interpreter": {
    "hash": "c477eb38f2c6124bbcc7a0d5f67c7e698e991f46ce2fd2f541db51a3e908c24f"
   }
  }
 },
 "nbformat": 4,
 "nbformat_minor": 2
}
